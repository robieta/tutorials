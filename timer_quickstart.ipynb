{
 "cells": [
  {
   "cell_type": "code",
   "execution_count": 48,
   "metadata": {},
   "outputs": [],
   "source": [
    "%matplotlib inline\n",
    "from IPython.display import Markdown\n",
    "def as_cpp(source: str):\n",
    "    return Markdown(f\"```c++\\n{source}\\n```\")"
   ]
  },
  {
   "cell_type": "code",
   "execution_count": 131,
   "metadata": {},
   "outputs": [],
   "source": [
    "import os\n",
    "import textwrap\n",
    "\n",
    "import matplotlib.pyplot as plt\n",
    "\n",
    "import torch"
   ]
  },
  {
   "cell_type": "code",
   "execution_count": 132,
   "metadata": {},
   "outputs": [
    {
     "data": {
      "text/markdown": [
       "```c++\n",
       "\n",
       "// First attempt at a specialized implementation of `x + 1`\n",
       "at::Tensor shift(const at::Tensor & x) {\n",
       "    TORCH_CHECK(x.scalar_type() == at::kFloat, \"shift requires a float input\");\n",
       "\n",
       "    auto y = x.clone(at::MemoryFormat::Contiguous);\n",
       "    auto y_ptr = x.data_ptr<float>();\n",
       "    auto n = y.numel();\n",
       "    for (int i = 0; i < n; i++) {\n",
       "        *(y_ptr + i) += 1;\n",
       "    }\n",
       "    return y;\n",
       "}\n",
       "\n",
       "```"
      ],
      "text/plain": [
       "<IPython.core.display.Markdown object>"
      ]
     },
     "execution_count": 132,
     "metadata": {},
     "output_type": "execute_result"
    }
   ],
   "source": [
    "shift_impl_v0_src = \"\"\"\n",
    "// First attempt at a specialized implementation of `x + 1`\n",
    "at::Tensor shift(const at::Tensor & x) {\n",
    "    TORCH_CHECK(x.scalar_type() == at::kFloat, \"shift requires a float input\");\n",
    "\n",
    "    auto y = x.clone(at::MemoryFormat::Contiguous);\n",
    "    auto y_ptr = x.data_ptr<float>();\n",
    "    auto n = y.numel();\n",
    "    for (int i = 0; i < n; i++) {\n",
    "        *(y_ptr + i) += 1;\n",
    "    }\n",
    "    return y;\n",
    "}\n",
    "\"\"\"\n",
    "\n",
    "# Compile our implementation into an inline module. Normally we would modify\n",
    "# ATen instead, however this allows us to show an example without having to\n",
    "# build PyTorch from source.\n",
    "from torch.utils.cpp_extension import load_inline\n",
    "shift_impl_v0 = load_inline(\n",
    "    name='shift_impl_v0',\n",
    "    cpp_sources=shift_impl_v0_src,\n",
    "    extra_cflags=['-O2', '-g'],\n",
    "    functions=['shift'],\n",
    ")\n",
    "\n",
    "def module_to_setup_str(m):\n",
    "    \"\"\"Handle importing `m` during Timer setup.\n",
    "\n",
    "    This step is only necessary because we are using custom extensions for\n",
    "    demonstration, rather than modifying and rebuilding PyTorch core.\n",
    "    \"\"\"\n",
    "    module_dir, module_name = os.path.split(m.__file__)\n",
    "    return textwrap.dedent(f\"\"\"\n",
    "        import sys\n",
    "        if not {repr(module_dir)} in sys.path:\n",
    "            sys.path.append({repr(module_dir)})\n",
    "        import {module_name[:-3]} as my_module\n",
    "        \"\"\")\n",
    "\n",
    "as_cpp(shift_impl_v0_src)"
   ]
  },
  {
   "cell_type": "markdown",
   "metadata": {},
   "source": [
    "# Naive benchmark"
   ]
  },
  {
   "cell_type": "code",
   "execution_count": 21,
   "metadata": {},
   "outputs": [
    {
     "name": "stdout",
     "output_type": "stream",
     "text": [
      "x + 1\n",
      "          n=1       n=1024      n=16384\n",
      "---------------------------------------\n",
      "      13.7 us       8.4 us      13.4 us\n",
      "       8.8 us       7.9 us      13.3 us\n",
      "       7.2 us       8.1 us      13.7 us\n",
      "       7.6 us       8.9 us      13.9 us\n",
      "       7.8 us       8.1 us      14.1 us\n",
      "\n",
      "\n",
      "C++ Extension\n",
      "          n=1       n=1024      n=16384\n",
      "---------------------------------------\n",
      "       4.6 us       4.6 us      16.8 us\n",
      "       4.4 us       4.4 us      17.9 us\n",
      "       3.8 us       5.0 us      17.1 us\n",
      "       3.8 us       4.7 us      17.3 us\n",
      "       3.7 us       4.9 us      17.3 us\n"
     ]
    }
   ],
   "source": [
    "import time\n",
    "\n",
    "repeats = 5\n",
    "runs_per_repeat = 100\n",
    "sizes = (1, 1024, 16384)\n",
    "\n",
    "print(\"x + 1\")\n",
    "print(\"\".join([f\"n={i}\".rjust(13) for i in sizes]) + \"\\n\" + \"-\" * 39)\n",
    "for _ in range(repeats):\n",
    "    results = \"\"\n",
    "    for n in sizes:\n",
    "        x = torch.ones((n,))\n",
    "        start_time = time.time()\n",
    "        for _ in range(runs_per_repeat):\n",
    "            x + 1\n",
    "        results += f\"{(time.time() - start_time) / runs_per_repeat * 1e6:10.1f} us\"\n",
    "    print(results)\n",
    "    \n",
    "print(\"\\n\\nC++ Extension\")\n",
    "print(\"\".join([f\"n={i}\".rjust(13) for i in sizes]) + \"\\n\" + \"-\" * 39)\n",
    "for _ in range(repeats):\n",
    "    results = \"\"\n",
    "    for n in sizes:\n",
    "        x = torch.ones((n,))\n",
    "        start_time = time.time()\n",
    "        for _ in range(runs_per_repeat):\n",
    "            shift_impl_v0.shift(x)\n",
    "        results += f\"{(time.time() - start_time) / runs_per_repeat * 1e6:10.1f} us\"\n",
    "    print(results)"
   ]
  },
  {
   "cell_type": "markdown",
   "metadata": {},
   "source": [
    "# Slightly better: timeit.Timer"
   ]
  },
  {
   "cell_type": "code",
   "execution_count": 29,
   "metadata": {},
   "outputs": [
    {
     "name": "stdout",
     "output_type": "stream",
     "text": [
      "x + 1\n",
      "          n=1       n=1024      n=16384\n",
      "---------------------------------------\n",
      "      12.5 us       7.9 us      14.2 us\n",
      "       9.1 us       7.6 us      14.9 us\n",
      "       7.0 us       7.7 us      12.6 us\n",
      "      12.4 us       8.9 us      13.1 us\n",
      "       7.2 us       8.1 us      13.0 us\n",
      "\n",
      "\n",
      "C++ Extension\n",
      "          n=1       n=1024      n=16384\n",
      "---------------------------------------\n",
      "       4.2 us       4.3 us      15.6 us\n",
      "       5.0 us       4.5 us      16.2 us\n",
      "       3.7 us       4.9 us      16.2 us\n",
      "       3.5 us       4.4 us      18.6 us\n",
      "       4.9 us       4.6 us      16.4 us\n"
     ]
    }
   ],
   "source": [
    "import timeit\n",
    "\n",
    "print(\"x + 1\")\n",
    "print(\"\".join([f\"n={i}\".rjust(13) for i in sizes]) + \"\\n\" + \"-\" * 39)\n",
    "for _ in range(repeats):\n",
    "    results = \"\"\n",
    "    for n in sizes:\n",
    "        timer = timeit.Timer(\"x + 1\", setup=f\"import torch;x = torch.ones(({n},))\")\n",
    "        t = timer.timeit(runs_per_repeat) / runs_per_repeat\n",
    "        results += f\"{t * 1e6:10.1f} us\"\n",
    "    print(results)\n",
    "    \n",
    "print(\"\\n\\nC++ Extension\")\n",
    "print(\"\".join([f\"n={i}\".rjust(13) for i in sizes]) + \"\\n\" + \"-\" * 39)\n",
    "for _ in range(repeats):\n",
    "    results = \"\"\n",
    "    for n in sizes:\n",
    "        timer = timeit.Timer(\n",
    "            \"shift(x)\", \n",
    "            setup=f\"import torch;x = torch.ones(({n},))\",\n",
    "            globals={\"shift\": shift_impl_v0.shift}\n",
    "        )\n",
    "        t = timer.timeit(runs_per_repeat) / runs_per_repeat\n",
    "        results += f\"{t * 1e6:10.1f} us\"\n",
    "    print(results)"
   ]
  },
  {
   "cell_type": "markdown",
   "metadata": {},
   "source": [
    "# Runtime aware: torch.utils.benchmark.Timer"
   ]
  },
  {
   "cell_type": "code",
   "execution_count": 43,
   "metadata": {},
   "outputs": [
    {
     "name": "stdout",
     "output_type": "stream",
     "text": [
      "<torch.utils.benchmark.utils.common.Measurement object at 0x7f627a1e5080>\n",
      "x + 1: Generic implementation.\n",
      "  Median: 7.08 us\n",
      "  IQR:    0.34 us (6.89 to 7.23)\n",
      "  142 measurements, 1000 runs per measurement, 1 thread \n",
      "\n",
      "Mean:      7.1 us\n",
      "Median:    7.1 us\n",
      "IQR:       0.3 us\n",
      "\n",
      "(Already divided by number per run)\n",
      "Raw times: [7.111713290214539e-06, 7.117092609405518e-06, ..., 6.727509200572968e-06, 6.842736154794693e-06]\n"
     ]
    }
   ],
   "source": [
    "from torch.utils.benchmark import Timer\n",
    "\n",
    "m = Timer(\n",
    "    stmt=\"x + 1\",\n",
    "    setup=\"x = torch.ones((1,))\",\n",
    "    sub_label=\"Generic implementation.\",\n",
    ").blocked_autorange(min_run_time=1)\n",
    "\n",
    "# Results summarized by __repr__\n",
    "print(m, \"\\n\")\n",
    "\n",
    "# Helper methods for statistics\n",
    "print(f\"Mean:   {m.mean * 1e6:6.1f} us\")\n",
    "print(f\"Median: {m.median * 1e6:6.1f} us\")\n",
    "print(f\"IQR:    {m.iqr * 1e6:6.1f} us\")\n",
    "print(f\"Times:  {str(m.times[:2])[:-1]}, ..., {str(m.times[-2:])[1:]}\")\n"
   ]
  },
  {
   "cell_type": "code",
   "execution_count": 124,
   "metadata": {},
   "outputs": [
    {
     "name": "stdout",
     "output_type": "stream",
     "text": [
      "299"
     ]
    }
   ],
   "source": [
    "times = []\n",
    "x = [int(i) for i in torch.logspace(2, 8, 300)]\n",
    "for i, n in enumerate(x):\n",
    "    num_runs, total_time = timeit.Timer(\"x + 1\", setup=f\"import torch;x = torch.ones(({n},))\").autorange()\n",
    "    t0 = total_time / num_runs\n",
    "    \n",
    "    m = Timer(\"x + 1\", f\"x = torch.ones(({n},))\").blocked_autorange()\n",
    "    times.append((t0, m.mean, m.median))\n",
    "    print(f\"\\r{i}\", end=\"\")"
   ]
  },
  {
   "cell_type": "code",
   "execution_count": 123,
   "metadata": {},
   "outputs": [
    {
     "name": "stdout",
     "output_type": "stream",
     "text": [
      "866 ms ± 18.7 ms per loop (mean ± std. dev. of 7 runs, 1 loop each)\n",
      "213 ms ± 2.99 ms per loop (mean ± std. dev. of 7 runs, 1 loop each)\n"
     ]
    }
   ],
   "source": [
    "%timeit timeit.Timer().autorange()\n",
    "%timeit Timer().blocked_autorange()"
   ]
  },
  {
   "cell_type": "code",
   "execution_count": 122,
   "metadata": {},
   "outputs": [
    {
     "data": {
      "image/png": "[encoded data removed]",
      "text/plain": [
       "<Figure size 1280x640 with 2 Axes>"
      ]
     },
     "metadata": {},
     "output_type": "display_data"
    }
   ],
   "source": [
    "plt.figure(num=None, figsize=(16, 8), dpi=80, facecolor='w', edgecolor='k')\n",
    "for i, (plot, title) in enumerate([(plt.plot, \"Linear scale\"), (plt.loglog, \"Log-log scale\")]):\n",
    "    plt.subplot(1, 2, i + 1)\n",
    "    plot(x, [i[0] for i in times], \".:b\")\n",
    "    plt.plot(x, [i[1] for i in times], \".:k\")\n",
    "    plt.title(title, fontsize=16)\n",
    "    plt.xlabel(\"n\", fontsize=16)\n",
    "    plt.ylabel(\"time\", fontsize=16)\n",
    "    plt.legend([\"timeit.Timer\", \"torch.utils.benchmark.Timer\"], fontsize=16)"
   ]
  },
  {
   "cell_type": "code",
   "execution_count": 141,
   "metadata": {},
   "outputs": [
    {
     "name": "stdout",
     "output_type": "stream",
     "text": [
      "[------------------------------------- Shift operator ------------------------------------]\n",
      "                               |   1   |   16  |  256  |  1024  |  4096  |  16384  |  32768\n",
      "1 threads: --------------------------------------------------------------------------------\n",
      "      Generic implementation.  |  6.7  |  6.8  |  7.3  |  7.6   |  8.5   |   12.7  |   19.7\n",
      "      Custom C++ operator      |  3.6  |  3.6  |  4.0  |  4.6   |  6.8   |   16.2  |   30.5\n",
      "\n",
      "Times are in microseconds (us).\n",
      "\n"
     ]
    }
   ],
   "source": [
    "from torch.utils.benchmark import Compare\n",
    "\n",
    "results = []\n",
    "for n in [1, 16, 256, 1024, 4096, 16384, 32768]:\n",
    "    setup=f\"x = torch.ones(({n},))\"\n",
    "    results.append(Timer(\n",
    "        \"x + 1\",\n",
    "        setup=setup,\n",
    "        label=\"Shift operator\",\n",
    "        sub_label=\"Generic implementation.\",\n",
    "        description=str(n),\n",
    "    ).blocked_autorange())\n",
    "\n",
    "    results.append(Timer(\n",
    "        \"my_module.shift(x)\",\n",
    "        setup=(\n",
    "            module_to_setup_str(shift_impl_v0) +\n",
    "            setup\n",
    "        ),\n",
    "        label=\"Shift operator\",\n",
    "        sub_label=\"Custom C++ operator\",\n",
    "        description=str(n),\n",
    "    ).blocked_autorange())\n",
    "\n",
    "compare = Compare(results)\n",
    "compare.print()"
   ]
  },
  {
   "cell_type": "markdown",
   "metadata": {},
   "source": [
    "### With extra formatting"
   ]
  },
  {
   "cell_type": "code",
   "execution_count": 142,
   "metadata": {},
   "outputs": [
    {
     "name": "stdout",
     "output_type": "stream",
     "text": [
      "[------------------------------------- Shift operator ------------------------------------]\n",
      "                               |   1   |   16  |  256  |  1024  |  4096  |  16384  |  32768\n",
      "1 threads: --------------------------------------------------------------------------------\n",
      "      Generic implementation.  |  6.7  |  6.8  |  7.3  |  7.6   |  8.5   |  \u001b[92m\u001b[1m  13 \u001b[0m\u001b[0m  |  \u001b[92m\u001b[1m  20 \u001b[0m\u001b[0m\n",
      "      Custom C++ operator      |  \u001b[92m\u001b[1m3.6\u001b[0m\u001b[0m  |  \u001b[92m\u001b[1m3.6\u001b[0m\u001b[0m  |  \u001b[92m\u001b[1m4.0\u001b[0m\u001b[0m  |  \u001b[92m\u001b[1m4.6 \u001b[0m\u001b[0m  |  \u001b[92m\u001b[1m6.8 \u001b[0m\u001b[0m  |    16   |    31 \n",
      "\n",
      "Times are in microseconds (us).\n",
      "\n"
     ]
    }
   ],
   "source": [
    "compare.trim_significant_figures()\n",
    "compare.colorize()\n",
    "compare.print()"
   ]
  },
  {
   "cell_type": "code",
   "execution_count": null,
   "metadata": {},
   "outputs": [],
   "source": []
  }
 ],
 "metadata": {
  "kernelspec": {
   "display_name": "Python 3",
   "language": "python",
   "name": "python3"
  },
  "language_info": {
   "codemirror_mode": {
    "name": "ipython",
    "version": 3
   },
   "file_extension": ".py",
   "mimetype": "text/x-python",
   "name": "python",
   "nbconvert_exporter": "python",
   "pygments_lexer": "ipython3",
   "version": "3.6.12"
  }
 },
 "nbformat": 4,
 "nbformat_minor": 4
}
